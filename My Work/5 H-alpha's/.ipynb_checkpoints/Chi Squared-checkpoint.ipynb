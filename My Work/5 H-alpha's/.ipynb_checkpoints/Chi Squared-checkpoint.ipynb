{
 "cells": [
  {
   "cell_type": "code",
   "execution_count": 2,
   "metadata": {},
   "outputs": [],
   "source": [
    "import numpy as np\n",
    "import astropy.io.fits as pf\n",
    "import matplotlib\n",
    "from matplotlib import pyplot as plt\n",
    "import lmfit\n",
    "from lmfit import minimize, Parameters, report_fit, fit_report\n",
    "from IPython.display import Image\n",
    "import datascience as ds\n",
    "import scipy\n",
    "from scipy import signal as sc"
   ]
  },
  {
   "cell_type": "code",
   "execution_count": 3,
   "metadata": {},
   "outputs": [],
   "source": [
    "%matplotlib inline"
   ]
  },
  {
   "cell_type": "code",
   "execution_count": null,
   "metadata": {},
   "outputs": [],
   "source": [
    "# GOAL: create a function that compares a spectra to all other spectra in directory\n",
    "#       and returns the corresponding spectra with the lowest chi squared value"
   ]
  }
 ],
 "metadata": {
  "kernelspec": {
   "display_name": "Python 3",
   "language": "python",
   "name": "python3"
  },
  "language_info": {
   "codemirror_mode": {
    "name": "ipython",
    "version": 3
   },
   "file_extension": ".py",
   "mimetype": "text/x-python",
   "name": "python",
   "nbconvert_exporter": "python",
   "pygments_lexer": "ipython3",
   "version": "3.7.3"
  }
 },
 "nbformat": 4,
 "nbformat_minor": 2
}
