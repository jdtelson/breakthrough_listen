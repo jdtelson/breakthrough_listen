{
 "cells": [
  {
   "cell_type": "code",
   "execution_count": 1,
   "metadata": {},
   "outputs": [],
   "source": [
    "import numpy as np\n",
    "import astropy.io.fits as pf\n",
    "import matplotlib\n",
    "from matplotlib import pyplot as plt\n",
    "import lmfit\n",
    "from lmfit import minimize, Parameters, report_fit, fit_report\n",
    "from IPython.display import Image\n",
    "import datascience as ds\n",
    "import scipy\n",
    "from scipy import signal as sc\n",
    "import os"
   ]
  },
  {
   "cell_type": "code",
   "execution_count": 2,
   "metadata": {},
   "outputs": [],
   "source": [
    "%matplotlib inline"
   ]
  },
  {
   "cell_type": "code",
   "execution_count": 9,
   "metadata": {},
   "outputs": [],
   "source": [
    "# 1 argument: fits file name (string)\n",
    "# output: normalized, registered, and deblazed array\n",
    "# must have 'apf_wav copy.fits' in directory\n",
    "\n",
    "def normalized_registered_and_deblazed_array(file_name):\n",
    "    file = pf.open(file_name)\n",
    "    header = file[0].header\n",
    "    target_object = header['TOBJECT']\n",
    "    image = file[0].data\n",
    "    \n",
    "    wave = pf.open('apf_wav copy.fits')\n",
    "    wave_values = wave[0].data\n",
    "    \n",
    "    x = wave_values[53,0:4600]\n",
    "    y = image[53,0:4600]\n",
    "    \n",
    "    # normalize y values to 1\n",
    "    y_norm = y/np.percentile(np.sort(y),99)\n",
    "    \n",
    "    # debalze\n",
    "    y_medfit = sc.medfilt(y_norm, kernel_size = 151)\n",
    "    maximum = np.max(np.percentile(y_medfit, 96))\n",
    "    fix = np.where(y_medfit[1750:2350]>0.97, y_medfit[1750:2350], maximum)\n",
    "\n",
    "    new_y_medfit = np.append(y_medfit[:1750],fix)\n",
    "    blaze_function = np.append(new_y_medfit, y_medfit[2350:])\n",
    "    \n",
    "    # register\n",
    "    dl_l = (wave_values[53,2844:2845]-wave_values[53,2843:2844])/wave_values[53,2843:2844]\n",
    "    v = (dl_l*3*10**5)[0]\n",
    "    lambda1 = wave_values[53,0]\n",
    "    shifted = np.array([lambda1])\n",
    "    for i in np.arange(0,4599):\n",
    "        new_lambda = shifted[i] + (wave_values[53,i+1])*v/(3*10**5)\n",
    "        shifted = np.append(shifted, new_lambda)\n",
    "    \n",
    "    return y_norm/blaze_function"
   ]
  },
  {
   "cell_type": "code",
   "execution_count": 10,
   "metadata": {},
   "outputs": [],
   "source": [
    "# returns chi squared value between two H-alpha spectra\n",
    "# 1st argument: file name of spectra you are testing (string) \n",
    "# 2nd argument: file name of know spectra (string) \n",
    "\n",
    "def chi_squared_value(test, known):\n",
    "    test_array = normalized_registered_and_deblazed_array(test)\n",
    "    known_array = normalized_registered_and_deblazed_array(known)\n",
    "    return np.sum(((test_array - known_array)**2)/test_array)"
   ]
  },
  {
   "cell_type": "code",
   "execution_count": 11,
   "metadata": {},
   "outputs": [],
   "source": [
    "# returns best chi squared value out of all files in directory\n",
    "# 1st argument: file name of spectra(string) \n",
    "# 2nd argument: name of directory with other star files (string) \n",
    "\n",
    "def best_chi_squared_value(target_object, directory_name):\n",
    "    directory = os.fsencode(directory_name)\n",
    "    cs_values = np.array([])\n",
    "\n",
    "    for file in os.listdir(directory):\n",
    "        filename = os.fsdecode(file)\n",
    "        if filename.endswith('.fits'):\n",
    "            cs_value = np.array([chi_squared_value(target_object, filename), filename])\n",
    "            cs_values = np.append(cs_values, cs_value)\n",
    "    best_cs = np.sort(cs_values)[1]\n",
    "    return best_cs"
   ]
  },
  {
   "cell_type": "code",
   "execution_count": null,
   "metadata": {},
   "outputs": [],
   "source": [
    "# possible improvement: return file name of best chi squared value along with the value itself"
   ]
  }
 ],
 "metadata": {
  "kernelspec": {
   "display_name": "Python 3",
   "language": "python",
   "name": "python3"
  },
  "language_info": {
   "codemirror_mode": {
    "name": "ipython",
    "version": 3
   },
   "file_extension": ".py",
   "mimetype": "text/x-python",
   "name": "python",
   "nbconvert_exporter": "python",
   "pygments_lexer": "ipython3",
   "version": "3.7.3"
  }
 },
 "nbformat": 4,
 "nbformat_minor": 2
}
