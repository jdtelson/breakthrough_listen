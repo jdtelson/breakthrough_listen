{
 "cells": [
  {
   "cell_type": "code",
   "execution_count": 1,
   "metadata": {},
   "outputs": [
    {
     "ename": "ModuleNotFoundError",
     "evalue": "No module named 'rpy2'",
     "output_type": "error",
     "traceback": [
      "\u001b[0;31m---------------------------------------------------------------------------\u001b[0m",
      "\u001b[0;31mModuleNotFoundError\u001b[0m                       Traceback (most recent call last)",
      "\u001b[0;32m<ipython-input-1-9b2916475992>\u001b[0m in \u001b[0;36m<module>\u001b[0;34m\u001b[0m\n\u001b[1;32m     11\u001b[0m \u001b[0;32mfrom\u001b[0m \u001b[0mmatplotlib\u001b[0m \u001b[0;32mimport\u001b[0m \u001b[0mpyplot\u001b[0m \u001b[0;32mas\u001b[0m \u001b[0mplt\u001b[0m\u001b[0;34m\u001b[0m\u001b[0;34m\u001b[0m\u001b[0m\n\u001b[1;32m     12\u001b[0m \u001b[0;32mimport\u001b[0m \u001b[0mpandas\u001b[0m \u001b[0;32mas\u001b[0m \u001b[0mpd\u001b[0m\u001b[0;34m\u001b[0m\u001b[0;34m\u001b[0m\u001b[0m\n\u001b[0;32m---> 13\u001b[0;31m \u001b[0;32mimport\u001b[0m \u001b[0mrpy2\u001b[0m\u001b[0;34m.\u001b[0m\u001b[0mrobjects\u001b[0m \u001b[0;32mas\u001b[0m \u001b[0mrobjects\u001b[0m\u001b[0;34m\u001b[0m\u001b[0;34m\u001b[0m\u001b[0m\n\u001b[0m\u001b[1;32m     14\u001b[0m \u001b[0;32mimport\u001b[0m \u001b[0mcsv\u001b[0m\u001b[0;34m\u001b[0m\u001b[0;34m\u001b[0m\u001b[0m\n\u001b[1;32m     15\u001b[0m \u001b[0;32mimport\u001b[0m \u001b[0mos\u001b[0m\u001b[0;34m\u001b[0m\u001b[0;34m\u001b[0m\u001b[0m\n",
      "\u001b[0;31mModuleNotFoundError\u001b[0m: No module named 'rpy2'"
     ]
    }
   ],
   "source": [
    "\"\"\"\n",
    "@filename deblaze.py\n",
    "Remove the blaze function for a spectral order\n",
    "using the AFS algorithm (Xu et al. 2019)\n",
    "\"\"\"\n",
    "\n",
    "import sys\n",
    "import numpy as np\n",
    "import astropy.io.fits as pf\n",
    "import matplotlib\n",
    "from matplotlib import pyplot as plt\n",
    "import pandas as pd\n",
    "import rpy2.robjects as robjects\n",
    "import csv\n",
    "import os\n",
    "\n",
    "os.environ['KMP_DUPLICATE_LIB_OK'] = 'True'\n",
    "\n",
    "# Read in the wavelength solution\n",
    "wave_file = pf.open('apf_wav.fits')\n",
    "wave_data = wave_file[0].data\n",
    "\n",
    "# index of the last significant pixel\n",
    "END = 4607\n",
    "\n",
    "# Returns normalized data and the deblazing polynomial\n",
    "def afs_deblaze(order_data, order_number):\n",
    "    \"\"\"\n",
    "        Removes the blaze function for a spectral order\n",
    "        using the AFS method (Xu et al. 2019)\n",
    "        Returns:\n",
    "            order_data_deblazed (numpy.ndarray): Array of intensity values\n",
    "            removed of the blaze function\n",
    "            pdata (numpy.ndarray): Array that gives a general shape of the\n",
    "            removed blaze function\n",
    "    \"\"\"\n",
    "    # Write the data into a temp csv with columns wavelength and intensity\n",
    "    # for the purpose of the AFS algorithm, which reads in csv files\n",
    "    with open('t.csv', 'w', newline='') as f:\n",
    "        fieldnames = ['wv', 'intens']\n",
    "\n",
    "        thewriter = csv.DictWriter(f, fieldnames=fieldnames)\n",
    "\n",
    "        thewriter.writeheader()\n",
    "\n",
    "        for i in range(END):\n",
    "            try:\n",
    "                thewriter.writerow({'wv':wave_data[order_number, i],\n",
    "                                    'intens':order_data[i]}\n",
    "                                   )\n",
    "            except IndexError: break\n",
    "\n",
    "    # Run the AFS algorithm (language R) and read result into python\n",
    "    robjects.r('''\n",
    "    suppressMessages(source(\"afs_files/functions/AFS.R\"))\n",
    "    # Read in the spectrum into variable x.\n",
    "    x <- read.csv(\"t.csv\")\n",
    "    # Use q = 0.95 and d = 0.25 to run AFS function on the spectrum.\n",
    "    res1 <- try(AFS(x, .95, .25), silent = TRUE)\n",
    "    ''')\n",
    "\n",
    "    order_data_deblazed = (np.asarray(robjects.r['res1']))[:END]\n",
    "\n",
    "    # Delete temp csv file\n",
    "    os.remove(\"t.csv\")\n",
    "\n",
    "    # array that captures the shape of the blaze function\n",
    "    pdata = np.zeros(END)\n",
    "    pdata = order_data[:END] / order_data_deblazed\n",
    "\n",
    "    return (order_data_deblazed, pdata)"
   ]
  },
  {
   "cell_type": "code",
   "execution_count": null,
   "metadata": {},
   "outputs": [],
   "source": []
  }
 ],
 "metadata": {
  "kernelspec": {
   "display_name": "Python 3",
   "language": "python",
   "name": "python3"
  },
  "language_info": {
   "codemirror_mode": {
    "name": "ipython",
    "version": 3
   },
   "file_extension": ".py",
   "mimetype": "text/x-python",
   "name": "python",
   "nbconvert_exporter": "python",
   "pygments_lexer": "ipython3",
   "version": "3.7.3"
  }
 },
 "nbformat": 4,
 "nbformat_minor": 2
}
